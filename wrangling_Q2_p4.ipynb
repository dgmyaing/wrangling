{
  "nbformat": 4,
  "nbformat_minor": 0,
  "metadata": {
    "colab": {
      "provenance": [],
      "authorship_tag": "ABX9TyOW2e6lRZvt9T8XU3kfehTN",
      "include_colab_link": true
    },
    "kernelspec": {
      "name": "python3",
      "display_name": "Python 3"
    },
    "language_info": {
      "name": "python"
    }
  },
  "cells": [
    {
      "cell_type": "markdown",
      "metadata": {
        "id": "view-in-github",
        "colab_type": "text"
      },
      "source": [
        "<a href=\"https://colab.research.google.com/github/dgmyaing/wrangling/blob/main/wrangling_Q2_p4.ipynb\" target=\"_parent\"><img src=\"https://colab.research.google.com/assets/colab-badge.svg\" alt=\"Open In Colab\"/></a>"
      ]
    },
    {
      "cell_type": "code",
      "execution_count": 1,
      "metadata": {
        "colab": {
          "base_uri": "https://localhost:8080/"
        },
        "id": "v91X2QpT1F9u",
        "outputId": "41fbe6a5-a295-4771-8c97-416093a3f156"
      },
      "outputs": [
        {
          "output_type": "stream",
          "name": "stdout",
          "text": [
            "9053 \n",
            "\n",
            "SentenceTypeAllChargesAtConvictionInContactEvent     0     1    2     4    9\n",
            "ImposedSentenceAllChargeInContactEvent                                      \n",
            "False                                             8720  4299  914     0    0\n",
            "True                                                 0     0    0  8779  274 \n",
            "\n",
            "SentenceTypeAllChargesAtConvictionInContactEvent     0     1    2     4    9\n",
            "ImposedSentenceAllChargeInContactEvent                                      \n",
            "False                                             8720  4299  914  8779    0\n",
            "True                                                 0     0    0     0  274 \n",
            "\n",
            "274 \n",
            "\n"
          ]
        }
      ],
      "source": [
        "import pandas as pd\n",
        "import numpy as np\n",
        "import seaborn as sns\n",
        "\n",
        "url = 'https://raw.githubusercontent.com/dgmyaing/wrangling/main/pretrial_data.csv'\n",
        "df = pd.read_csv(url, low_memory=False)\n",
        "\n",
        "length = df['ImposedSentenceAllChargeInContactEvent']\n",
        "type = df['SentenceTypeAllChargesAtConvictionInContactEvent']\n",
        "\n",
        "# print( length.unique()  , '\\n') # Some values are ' ', denoting missing\n",
        "length = pd.to_numeric(length,errors='coerce') # Coerce to numeric\n",
        "length_NA = length.isnull() # Create a missing dummy\n",
        "print( np.sum(length_NA),'\\n') # 9k missing values of 23k, not so good\n",
        "\n",
        "print( pd.crosstab(length_NA, type), '\\n') # Category 4 is cases where the charges were dismissed\n",
        "\n",
        "length = length.mask( type == 4, 0) # Replace length with 0 when type ==4\n",
        "length = length.mask( type == 9, np.nan) # Replace length with np.nan when type == 9\n",
        "\n",
        "length_NA = length.isnull() # Create a new missing dummy\n",
        "print( pd.crosstab(length_NA, type), '\\n')\n",
        "print( np.sum(length_NA),'\\n') # 274 missing, much better\n",
        "\n",
        "df['ImposedSentenceAllChargeInContactEvent'] = length # Replace data with cleaned version\n",
        "del length, type # Delete temporary length/type variables"
      ]
    }
  ]
}